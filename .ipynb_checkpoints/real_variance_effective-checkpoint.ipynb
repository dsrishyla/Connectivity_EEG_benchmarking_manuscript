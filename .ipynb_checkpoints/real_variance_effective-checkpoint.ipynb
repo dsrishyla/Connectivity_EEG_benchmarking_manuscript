{
 "cells": [
  {
   "cell_type": "code",
   "execution_count": 1,
   "id": "9b08c0dc-eb15-4b1d-b3b0-c87a14d4576c",
   "metadata": {},
   "outputs": [],
   "source": [
    "import pandas as pd\n",
    "import glob\n",
    "import xarray as xr\n",
    "import numpy as np\n",
    "from statsmodels.stats.anova import AnovaRM \n",
    "from scipy import stats\n",
    "from matplotlib import pyplot as plt\n",
    "import pingouin as pg\n",
    "import numpy as np\n",
    "import seaborn as sns\n",
    "import scipy"
   ]
  },
  {
   "cell_type": "code",
   "execution_count": 2,
   "id": "9033e91a-a1f4-46c6-9a9a-1f0f1acc25b0",
   "metadata": {},
   "outputs": [],
   "source": [
    "vn = ['fusiform-rh', 'fusiform-lh', 'lingual-lh', 'lingual-rh',\n",
    "'cuneus-rh','cuneus-lh', 'lateraloccipital-rh', 'lateraloccipital-lh']\n",
    "\n",
    "methods = ['gpdc','ddtf','psgp']"
   ]
  },
  {
   "cell_type": "code",
   "execution_count": 12,
   "id": "86417a08-3e1b-40ee-86c1-474e081f3cd2",
   "metadata": {},
   "outputs": [],
   "source": [
    "#Functions\n",
    "\n",
    "def outlier_indices(data):\n",
    "    q1 = np.percentile(data, 25, method='midpoint')\n",
    "    q3 = np.percentile(data, 75, method='midpoint')\n",
    "    iqr = q3 - q1\n",
    "    upper = q3 + 1.5 * iqr\n",
    "    lower = q1 - 1.5 * iqr\n",
    "    upper_outliers = np.where(data >= upper)[0]\n",
    "    lower_outliers = np.where(data <= lower)[0]\n",
    "    outlier_index_list = list(upper_outliers) + list(lower_outliers)\n",
    "    \n",
    "    return outlier_index_list\n",
    "\n",
    "def remove_outliers(data):\n",
    "    outliers_removed = []\n",
    "    \n",
    "    for i in range(0,len(data)):\n",
    "        if i not in outlier_indices(data):\n",
    "            outliers_removed.append(data[i])\n",
    "            \n",
    "    return outliers_removed\n",
    "\n",
    "def bootstrap_ci(group1, group2):\n",
    "    \n",
    "    ####################################################\n",
    "    #sample from pooled 1000 times\n",
    "    n1 = len(group1)\n",
    "    n2 = len(group2)\n",
    "    \n",
    "    bootstrap_sample1 = []\n",
    "    bootstrap_sample2 = []\n",
    "    \n",
    "    for i in range(1000):\n",
    "        sample1 = []\n",
    "        sample2 = []\n",
    "        index1 = np.random.choice(range(0,n1),n1,replace=True)\n",
    "        index2 = np.random.choice(range(0,n2),n2,replace=True)\n",
    "        sample1 = np.array(group1)[index1]\n",
    "        sample2 = np.array(group2)[index2]\n",
    "        bootstrap_sample1.append(sample1)\n",
    "        bootstrap_sample2.append(sample2)\n",
    "        \n",
    "    diff_list = []\n",
    "    for i in range(1000):\n",
    "        mean1 = np.mean(bootstrap_sample1[i])\n",
    "        mean2 = np.mean(bootstrap_sample2[i])\n",
    "    \n",
    "        diff = mean2 - mean1\n",
    "        diff_list.append(diff)\n",
    "    \n",
    "\n",
    "    diff_list.sort()\n",
    "\n",
    "\n",
    "    perc_025 = diff_list[24]\n",
    "    perc_975 = diff_list[974]\n",
    "\n",
    "    \n",
    "    return perc_025, perc_975"
   ]
  },
  {
   "cell_type": "code",
   "execution_count": 4,
   "id": "e6127cea-3b11-4d12-830f-b89a9417e8ea",
   "metadata": {},
   "outputs": [],
   "source": [
    "def confint_95(data):\n",
    "\n",
    "    bootstrap_samples = []\n",
    "\n",
    "    for i in range(1000):\n",
    "    #create 1000 bootstrap samples\n",
    "        n = len(data)\n",
    "        index = np.random.choice(range(0,n),n,replace=True)\n",
    "        sample = np.array(data)[index]\n",
    "        bootstrap_samples.append(sample)\n",
    "    \n",
    "    #calculate 1000 means\n",
    "    means = []\n",
    "    for sample in bootstrap_samples:\n",
    "        mean = np.mean(sample)\n",
    "        means.append(mean)\n",
    "\n",
    "    #sort means list\n",
    "    means.sort()\n",
    "    \n",
    "    #choose 25th value, choose 975th value\n",
    "    perc_025 = means[24]\n",
    "    perc_975 = means[974]\n",
    "\n",
    "    \n",
    "    return perc_025, perc_975"
   ]
  },
  {
   "cell_type": "code",
   "execution_count": 13,
   "id": "e6468600-88f5-4467-8a47-05fd5cc4d42b",
   "metadata": {},
   "outputs": [
    {
     "ename": "KeyboardInterrupt",
     "evalue": "",
     "output_type": "error",
     "traceback": [
      "\u001b[0;31m---------------------------------------------------------------------------\u001b[0m",
      "\u001b[0;31mKeyboardInterrupt\u001b[0m                         Traceback (most recent call last)",
      "Cell \u001b[0;32mIn[13], line 16\u001b[0m\n\u001b[1;32m     14\u001b[0m std2_list \u001b[38;5;241m=\u001b[39m []\n\u001b[1;32m     15\u001b[0m \u001b[38;5;28;01mfor\u001b[39;00m sample \u001b[38;5;129;01min\u001b[39;00m \u001b[38;5;28mrange\u001b[39m(\u001b[38;5;241m0\u001b[39m,\u001b[38;5;241m100\u001b[39m):\n\u001b[0;32m---> 16\u001b[0m     std \u001b[38;5;241m=\u001b[39m \u001b[43mxarray\u001b[49m\u001b[38;5;241;43m.\u001b[39;49m\u001b[43msel\u001b[49m\u001b[43m(\u001b[49m\u001b[43mbootstrap_samples\u001b[49m\u001b[38;5;241;43m=\u001b[39;49m\u001b[43msample\u001b[49m\u001b[43m,\u001b[49m\u001b[43m \u001b[49m\u001b[43mregion1\u001b[49m\u001b[38;5;241;43m=\u001b[39;49m\u001b[43mvn\u001b[49m\u001b[43m,\u001b[49m\u001b[43m \u001b[49m\u001b[43mregion2\u001b[49m\u001b[38;5;241;43m=\u001b[39;49m\u001b[43mvn\u001b[49m\u001b[43m)\u001b[49m\u001b[38;5;241;43m.\u001b[39;49m\u001b[43mvalues\u001b[49m\u001b[38;5;241m.\u001b[39mstd()\n\u001b[1;32m     17\u001b[0m     std2_list\u001b[38;5;241m.\u001b[39mappend(std\u001b[38;5;241m*\u001b[39m\u001b[38;5;241m*\u001b[39m\u001b[38;5;241m2\u001b[39m)\n\u001b[1;32m     18\u001b[0m mean_per_subject\u001b[38;5;241m.\u001b[39mappend(np\u001b[38;5;241m.\u001b[39mmean(std2_list))\n",
      "File \u001b[0;32m/Library/Frameworks/Python.framework/Versions/3.11/lib/python3.11/site-packages/xarray/core/dataarray.py:757\u001b[0m, in \u001b[0;36mDataArray.values\u001b[0;34m(self)\u001b[0m\n\u001b[1;32m    748\u001b[0m \u001b[38;5;129m@property\u001b[39m\n\u001b[1;32m    749\u001b[0m \u001b[38;5;28;01mdef\u001b[39;00m \u001b[38;5;21mvalues\u001b[39m(\u001b[38;5;28mself\u001b[39m) \u001b[38;5;241m-\u001b[39m\u001b[38;5;241m>\u001b[39m np\u001b[38;5;241m.\u001b[39mndarray:\n\u001b[1;32m    750\u001b[0m \u001b[38;5;250m    \u001b[39m\u001b[38;5;124;03m\"\"\"\u001b[39;00m\n\u001b[1;32m    751\u001b[0m \u001b[38;5;124;03m    The array's data as a numpy.ndarray.\u001b[39;00m\n\u001b[1;32m    752\u001b[0m \n\u001b[0;32m   (...)\u001b[0m\n\u001b[1;32m    755\u001b[0m \u001b[38;5;124;03m    type does not support coercion like this (e.g. cupy).\u001b[39;00m\n\u001b[1;32m    756\u001b[0m \u001b[38;5;124;03m    \"\"\"\u001b[39;00m\n\u001b[0;32m--> 757\u001b[0m     \u001b[38;5;28;01mreturn\u001b[39;00m \u001b[38;5;28;43mself\u001b[39;49m\u001b[38;5;241;43m.\u001b[39;49m\u001b[43mvariable\u001b[49m\u001b[38;5;241;43m.\u001b[39;49m\u001b[43mvalues\u001b[49m\n",
      "File \u001b[0;32m/Library/Frameworks/Python.framework/Versions/3.11/lib/python3.11/site-packages/xarray/core/variable.py:606\u001b[0m, in \u001b[0;36mVariable.values\u001b[0;34m(self)\u001b[0m\n\u001b[1;32m    603\u001b[0m \u001b[38;5;129m@property\u001b[39m\n\u001b[1;32m    604\u001b[0m \u001b[38;5;28;01mdef\u001b[39;00m \u001b[38;5;21mvalues\u001b[39m(\u001b[38;5;28mself\u001b[39m):\n\u001b[1;32m    605\u001b[0m \u001b[38;5;250m    \u001b[39m\u001b[38;5;124;03m\"\"\"The variable's data as a numpy.ndarray\"\"\"\u001b[39;00m\n\u001b[0;32m--> 606\u001b[0m     \u001b[38;5;28;01mreturn\u001b[39;00m \u001b[43m_as_array_or_item\u001b[49m\u001b[43m(\u001b[49m\u001b[38;5;28;43mself\u001b[39;49m\u001b[38;5;241;43m.\u001b[39;49m\u001b[43m_data\u001b[49m\u001b[43m)\u001b[49m\n",
      "File \u001b[0;32m/Library/Frameworks/Python.framework/Versions/3.11/lib/python3.11/site-packages/xarray/core/variable.py:306\u001b[0m, in \u001b[0;36m_as_array_or_item\u001b[0;34m(data)\u001b[0m\n\u001b[1;32m    292\u001b[0m \u001b[38;5;28;01mdef\u001b[39;00m \u001b[38;5;21m_as_array_or_item\u001b[39m(data):\n\u001b[1;32m    293\u001b[0m \u001b[38;5;250m    \u001b[39m\u001b[38;5;124;03m\"\"\"Return the given values as a numpy array, or as an individual item if\u001b[39;00m\n\u001b[1;32m    294\u001b[0m \u001b[38;5;124;03m    it's a 0d datetime64 or timedelta64 array.\u001b[39;00m\n\u001b[1;32m    295\u001b[0m \n\u001b[0;32m   (...)\u001b[0m\n\u001b[1;32m    304\u001b[0m \u001b[38;5;124;03m    TODO: remove this (replace with np.asarray) once these issues are fixed\u001b[39;00m\n\u001b[1;32m    305\u001b[0m \u001b[38;5;124;03m    \"\"\"\u001b[39;00m\n\u001b[0;32m--> 306\u001b[0m     data \u001b[38;5;241m=\u001b[39m np\u001b[38;5;241m.\u001b[39masarray(data)\n\u001b[1;32m    307\u001b[0m     \u001b[38;5;28;01mif\u001b[39;00m data\u001b[38;5;241m.\u001b[39mndim \u001b[38;5;241m==\u001b[39m \u001b[38;5;241m0\u001b[39m:\n\u001b[1;32m    308\u001b[0m         \u001b[38;5;28;01mif\u001b[39;00m data\u001b[38;5;241m.\u001b[39mdtype\u001b[38;5;241m.\u001b[39mkind \u001b[38;5;241m==\u001b[39m \u001b[38;5;124m\"\u001b[39m\u001b[38;5;124mM\u001b[39m\u001b[38;5;124m\"\u001b[39m:\n",
      "File \u001b[0;32m/Library/Frameworks/Python.framework/Versions/3.11/lib/python3.11/site-packages/xarray/core/indexing.py:693\u001b[0m, in \u001b[0;36mMemoryCachedArray.__array__\u001b[0;34m(self, dtype)\u001b[0m\n\u001b[1;32m    692\u001b[0m \u001b[38;5;28;01mdef\u001b[39;00m \u001b[38;5;21m__array__\u001b[39m(\u001b[38;5;28mself\u001b[39m, dtype: np\u001b[38;5;241m.\u001b[39mtyping\u001b[38;5;241m.\u001b[39mDTypeLike \u001b[38;5;241m=\u001b[39m \u001b[38;5;28;01mNone\u001b[39;00m) \u001b[38;5;241m-\u001b[39m\u001b[38;5;241m>\u001b[39m np\u001b[38;5;241m.\u001b[39mndarray:\n\u001b[0;32m--> 693\u001b[0m     \u001b[38;5;28;01mreturn\u001b[39;00m np\u001b[38;5;241m.\u001b[39masarray(\u001b[38;5;28;43mself\u001b[39;49m\u001b[38;5;241;43m.\u001b[39;49m\u001b[43mget_duck_array\u001b[49m\u001b[43m(\u001b[49m\u001b[43m)\u001b[49m, dtype\u001b[38;5;241m=\u001b[39mdtype)\n",
      "File \u001b[0;32m/Library/Frameworks/Python.framework/Versions/3.11/lib/python3.11/site-packages/xarray/core/indexing.py:696\u001b[0m, in \u001b[0;36mMemoryCachedArray.get_duck_array\u001b[0;34m(self)\u001b[0m\n\u001b[1;32m    695\u001b[0m \u001b[38;5;28;01mdef\u001b[39;00m \u001b[38;5;21mget_duck_array\u001b[39m(\u001b[38;5;28mself\u001b[39m):\n\u001b[0;32m--> 696\u001b[0m     \u001b[38;5;28;43mself\u001b[39;49m\u001b[38;5;241;43m.\u001b[39;49m\u001b[43m_ensure_cached\u001b[49m\u001b[43m(\u001b[49m\u001b[43m)\u001b[49m\n\u001b[1;32m    697\u001b[0m     \u001b[38;5;28;01mreturn\u001b[39;00m \u001b[38;5;28mself\u001b[39m\u001b[38;5;241m.\u001b[39marray\u001b[38;5;241m.\u001b[39mget_duck_array()\n",
      "File \u001b[0;32m/Library/Frameworks/Python.framework/Versions/3.11/lib/python3.11/site-packages/xarray/core/indexing.py:690\u001b[0m, in \u001b[0;36mMemoryCachedArray._ensure_cached\u001b[0;34m(self)\u001b[0m\n\u001b[1;32m    689\u001b[0m \u001b[38;5;28;01mdef\u001b[39;00m \u001b[38;5;21m_ensure_cached\u001b[39m(\u001b[38;5;28mself\u001b[39m):\n\u001b[0;32m--> 690\u001b[0m     \u001b[38;5;28mself\u001b[39m\u001b[38;5;241m.\u001b[39marray \u001b[38;5;241m=\u001b[39m as_indexable(\u001b[38;5;28;43mself\u001b[39;49m\u001b[38;5;241;43m.\u001b[39;49m\u001b[43marray\u001b[49m\u001b[38;5;241;43m.\u001b[39;49m\u001b[43mget_duck_array\u001b[49m\u001b[43m(\u001b[49m\u001b[43m)\u001b[49m)\n",
      "File \u001b[0;32m/Library/Frameworks/Python.framework/Versions/3.11/lib/python3.11/site-packages/xarray/core/indexing.py:664\u001b[0m, in \u001b[0;36mCopyOnWriteArray.get_duck_array\u001b[0;34m(self)\u001b[0m\n\u001b[1;32m    663\u001b[0m \u001b[38;5;28;01mdef\u001b[39;00m \u001b[38;5;21mget_duck_array\u001b[39m(\u001b[38;5;28mself\u001b[39m):\n\u001b[0;32m--> 664\u001b[0m     \u001b[38;5;28;01mreturn\u001b[39;00m \u001b[38;5;28;43mself\u001b[39;49m\u001b[38;5;241;43m.\u001b[39;49m\u001b[43marray\u001b[49m\u001b[38;5;241;43m.\u001b[39;49m\u001b[43mget_duck_array\u001b[49m\u001b[43m(\u001b[49m\u001b[43m)\u001b[49m\n",
      "File \u001b[0;32m/Library/Frameworks/Python.framework/Versions/3.11/lib/python3.11/site-packages/xarray/core/indexing.py:551\u001b[0m, in \u001b[0;36mLazilyIndexedArray.get_duck_array\u001b[0;34m(self)\u001b[0m\n\u001b[1;32m    550\u001b[0m \u001b[38;5;28;01mdef\u001b[39;00m \u001b[38;5;21mget_duck_array\u001b[39m(\u001b[38;5;28mself\u001b[39m):\n\u001b[0;32m--> 551\u001b[0m     array \u001b[38;5;241m=\u001b[39m \u001b[38;5;28;43mself\u001b[39;49m\u001b[38;5;241;43m.\u001b[39;49m\u001b[43marray\u001b[49m\u001b[43m[\u001b[49m\u001b[38;5;28;43mself\u001b[39;49m\u001b[38;5;241;43m.\u001b[39;49m\u001b[43mkey\u001b[49m\u001b[43m]\u001b[49m\n\u001b[1;32m    552\u001b[0m     \u001b[38;5;66;03m# self.array[self.key] is now a numpy array when\u001b[39;00m\n\u001b[1;32m    553\u001b[0m     \u001b[38;5;66;03m# self.array is a BackendArray subclass\u001b[39;00m\n\u001b[1;32m    554\u001b[0m     \u001b[38;5;66;03m# and self.key is BasicIndexer((slice(None, None, None),))\u001b[39;00m\n\u001b[1;32m    555\u001b[0m     \u001b[38;5;66;03m# so we need the explicit check for ExplicitlyIndexed\u001b[39;00m\n\u001b[1;32m    556\u001b[0m     \u001b[38;5;28;01mif\u001b[39;00m \u001b[38;5;28misinstance\u001b[39m(array, ExplicitlyIndexed):\n",
      "File \u001b[0;32m/Library/Frameworks/Python.framework/Versions/3.11/lib/python3.11/site-packages/xarray/backends/netCDF4_.py:100\u001b[0m, in \u001b[0;36mNetCDF4ArrayWrapper.__getitem__\u001b[0;34m(self, key)\u001b[0m\n\u001b[1;32m     99\u001b[0m \u001b[38;5;28;01mdef\u001b[39;00m \u001b[38;5;21m__getitem__\u001b[39m(\u001b[38;5;28mself\u001b[39m, key):\n\u001b[0;32m--> 100\u001b[0m     \u001b[38;5;28;01mreturn\u001b[39;00m \u001b[43mindexing\u001b[49m\u001b[38;5;241;43m.\u001b[39;49m\u001b[43mexplicit_indexing_adapter\u001b[49m\u001b[43m(\u001b[49m\n\u001b[1;32m    101\u001b[0m \u001b[43m        \u001b[49m\u001b[43mkey\u001b[49m\u001b[43m,\u001b[49m\u001b[43m \u001b[49m\u001b[38;5;28;43mself\u001b[39;49m\u001b[38;5;241;43m.\u001b[39;49m\u001b[43mshape\u001b[49m\u001b[43m,\u001b[49m\u001b[43m \u001b[49m\u001b[43mindexing\u001b[49m\u001b[38;5;241;43m.\u001b[39;49m\u001b[43mIndexingSupport\u001b[49m\u001b[38;5;241;43m.\u001b[39;49m\u001b[43mOUTER\u001b[49m\u001b[43m,\u001b[49m\u001b[43m \u001b[49m\u001b[38;5;28;43mself\u001b[39;49m\u001b[38;5;241;43m.\u001b[39;49m\u001b[43m_getitem\u001b[49m\n\u001b[1;32m    102\u001b[0m \u001b[43m    \u001b[49m\u001b[43m)\u001b[49m\n",
      "File \u001b[0;32m/Library/Frameworks/Python.framework/Versions/3.11/lib/python3.11/site-packages/xarray/core/indexing.py:858\u001b[0m, in \u001b[0;36mexplicit_indexing_adapter\u001b[0;34m(key, shape, indexing_support, raw_indexing_method)\u001b[0m\n\u001b[1;32m    836\u001b[0m \u001b[38;5;250m\u001b[39m\u001b[38;5;124;03m\"\"\"Support explicit indexing by delegating to a raw indexing method.\u001b[39;00m\n\u001b[1;32m    837\u001b[0m \n\u001b[1;32m    838\u001b[0m \u001b[38;5;124;03mOuter and/or vectorized indexers are supported by indexing a second time\u001b[39;00m\n\u001b[0;32m   (...)\u001b[0m\n\u001b[1;32m    855\u001b[0m \u001b[38;5;124;03mIndexing result, in the form of a duck numpy-array.\u001b[39;00m\n\u001b[1;32m    856\u001b[0m \u001b[38;5;124;03m\"\"\"\u001b[39;00m\n\u001b[1;32m    857\u001b[0m raw_key, numpy_indices \u001b[38;5;241m=\u001b[39m decompose_indexer(key, shape, indexing_support)\n\u001b[0;32m--> 858\u001b[0m result \u001b[38;5;241m=\u001b[39m \u001b[43mraw_indexing_method\u001b[49m\u001b[43m(\u001b[49m\u001b[43mraw_key\u001b[49m\u001b[38;5;241;43m.\u001b[39;49m\u001b[43mtuple\u001b[49m\u001b[43m)\u001b[49m\n\u001b[1;32m    859\u001b[0m \u001b[38;5;28;01mif\u001b[39;00m numpy_indices\u001b[38;5;241m.\u001b[39mtuple:\n\u001b[1;32m    860\u001b[0m     \u001b[38;5;66;03m# index the loaded np.ndarray\u001b[39;00m\n\u001b[1;32m    861\u001b[0m     result \u001b[38;5;241m=\u001b[39m NumpyIndexingAdapter(result)[numpy_indices]\n",
      "File \u001b[0;32m/Library/Frameworks/Python.framework/Versions/3.11/lib/python3.11/site-packages/xarray/backends/netCDF4_.py:113\u001b[0m, in \u001b[0;36mNetCDF4ArrayWrapper._getitem\u001b[0;34m(self, key)\u001b[0m\n\u001b[1;32m    111\u001b[0m     \u001b[38;5;28;01mwith\u001b[39;00m \u001b[38;5;28mself\u001b[39m\u001b[38;5;241m.\u001b[39mdatastore\u001b[38;5;241m.\u001b[39mlock:\n\u001b[1;32m    112\u001b[0m         original_array \u001b[38;5;241m=\u001b[39m \u001b[38;5;28mself\u001b[39m\u001b[38;5;241m.\u001b[39mget_array(needs_lock\u001b[38;5;241m=\u001b[39m\u001b[38;5;28;01mFalse\u001b[39;00m)\n\u001b[0;32m--> 113\u001b[0m         array \u001b[38;5;241m=\u001b[39m getitem(original_array, key)\n\u001b[1;32m    114\u001b[0m \u001b[38;5;28;01mexcept\u001b[39;00m \u001b[38;5;167;01mIndexError\u001b[39;00m:\n\u001b[1;32m    115\u001b[0m     \u001b[38;5;66;03m# Catch IndexError in netCDF4 and return a more informative\u001b[39;00m\n\u001b[1;32m    116\u001b[0m     \u001b[38;5;66;03m# error message.  This is most often called when an unsorted\u001b[39;00m\n\u001b[1;32m    117\u001b[0m     \u001b[38;5;66;03m# indexer is used before the data is loaded from disk.\u001b[39;00m\n\u001b[1;32m    118\u001b[0m     msg \u001b[38;5;241m=\u001b[39m (\n\u001b[1;32m    119\u001b[0m         \u001b[38;5;124m\"\u001b[39m\u001b[38;5;124mThe indexing operation you are attempting to perform \u001b[39m\u001b[38;5;124m\"\u001b[39m\n\u001b[1;32m    120\u001b[0m         \u001b[38;5;124m\"\u001b[39m\u001b[38;5;124mis not valid on netCDF4.Variable object. Try loading \u001b[39m\u001b[38;5;124m\"\u001b[39m\n\u001b[1;32m    121\u001b[0m         \u001b[38;5;124m\"\u001b[39m\u001b[38;5;124myour data into memory first by calling .load().\u001b[39m\u001b[38;5;124m\"\u001b[39m\n\u001b[1;32m    122\u001b[0m     )\n",
      "\u001b[0;31mKeyboardInterrupt\u001b[0m: "
     ]
    }
   ],
   "source": [
    "#assembling variance dictionaries\n",
    "\n",
    "inter_variance_dict = {}\n",
    "intra_variance_dict = {}\n",
    "\n",
    "for method in methods: \n",
    "    subject_files = glob.glob(f'/work/srishyla/{method}/*_EC.nc')\n",
    "\n",
    "    #intra\n",
    "    \n",
    "    mean_per_subject = []\n",
    "    for file in subject_files:\n",
    "        xarray = xr.open_dataarray(file)\n",
    "        std2_list = []\n",
    "        for sample in range(0,100):\n",
    "            std = xarray.sel(bootstrap_samples=sample, region1=vn, region2=vn).values.std()\n",
    "            std2_list.append(std**2)\n",
    "        mean_per_subject.append(np.mean(std2_list))\n",
    "    intra_variance_dict[method] = mean_per_subject\n",
    "    \n",
    "    #inter\n",
    "    \n",
    "    all_bootstraps = []  #list of 11200 arrays\n",
    "    for file in subject_files:\n",
    "        xarray = xr.open_dataarray(file)\n",
    "        for sample in range(0,100):\n",
    "            bootstrap = xarray.sel(bootstrap_samples=sample, region1=vn, region2=vn).values\n",
    "            all_bootstraps.append(bootstrap)\n",
    "    \n",
    "    random_bootstraps = []\n",
    "    for i in range(0,112):\n",
    "        index = np.random.choice(range(0,11200),100,replace=False)\n",
    "        sample = np.array(all_bootstraps)[index,:]\n",
    "        random_bootstraps.append(sample)\n",
    "\n",
    "    mean_per_bootstrap = []\n",
    "    for sample in random_bootstraps:\n",
    "        std_list = []\n",
    "        for i in range(0,100):\n",
    "            std = sample[i].std()\n",
    "            std_list.append(std**2)\n",
    "    \n",
    "        mean_per_bootstrap.append(np.mean(std_list))\n",
    "    \n",
    "    inter_variance_dict[method] = mean_per_bootstrap"
   ]
  },
  {
   "cell_type": "code",
   "execution_count": 6,
   "id": "5fe9c5d5-c5bd-40a2-8af0-9ca1258eb901",
   "metadata": {},
   "outputs": [],
   "source": [
    "#Remove outliers\n",
    "for method in methods:\n",
    "    inter_variance_dict[method] = remove_outliers(inter_variance_dict[method])\n",
    "    intra_variance_dict[method] = remove_outliers(intra_variance_dict[method])"
   ]
  },
  {
   "cell_type": "code",
   "execution_count": 7,
   "id": "29c648d1-1d4c-4c81-8aa9-ab955a7a07d0",
   "metadata": {},
   "outputs": [
    {
     "name": "stdout",
     "output_type": "stream",
     "text": [
      "coh 112\n",
      "ciplv 112\n",
      "imcoh 111\n",
      "wpli2 107\n"
     ]
    }
   ],
   "source": [
    "##CHECK SAMPLE SIZES OF DICTIONARIES\n",
    "for method in methods:\n",
    "    print(method, len(inter_variance_dict[method]))"
   ]
  },
  {
   "cell_type": "code",
   "execution_count": 8,
   "id": "918d67cc-887b-4819-a64f-7e57b5421a76",
   "metadata": {},
   "outputs": [
    {
     "name": "stdout",
     "output_type": "stream",
     "text": [
      "coh 111\n",
      "ciplv 108\n",
      "imcoh 107\n",
      "wpli2 105\n"
     ]
    }
   ],
   "source": [
    "## CHECK SAMPLE SIZES OF DICTIONARIES\n",
    "for method in methods:\n",
    "    print(method, len(intra_variance_dict[method]))"
   ]
  },
  {
   "cell_type": "code",
   "execution_count": 9,
   "id": "9a15a452-ab49-4e78-8c8f-91e85482452f",
   "metadata": {},
   "outputs": [],
   "source": [
    "#calculating ratios\n",
    "ratio_dict = {}\n",
    "for method in methods:\n",
    "    ratio_list = []\n",
    "    for inter_variance,intra_variance in zip(inter_variance_dict[method],intra_variance_dict[method]):\n",
    "        ratio = inter_variance / intra_variance\n",
    "        ratio_list.append(ratio)\n",
    "    ratio_dict[method] = ratio_list"
   ]
  },
  {
   "cell_type": "code",
   "execution_count": 11,
   "id": "0c9ec760-7c59-4f36-ad89-d34e81f0e034",
   "metadata": {},
   "outputs": [],
   "source": [
    "#STATISTICAL TESTING FOR DIFFERENCE IN VARIANCE BETWEEN INTER-VARIANCE-DICTIONARIES AND INTRA-VARIANCE DICTIONARIES"
   ]
  },
  {
   "cell_type": "code",
   "execution_count": 12,
   "id": "0eed6c22-0ab1-4412-bba1-073aa3515d14",
   "metadata": {},
   "outputs": [],
   "source": [
    "#BOOTSTRAP T STATISTIC (UNEQUAL SAMPLES)"
   ]
  },
  {
   "cell_type": "code",
   "execution_count": 10,
   "id": "ee405ee7-fb7c-4c2c-9c0e-383accdd490a",
   "metadata": {},
   "outputs": [],
   "source": [
    "comparison_pairs = [('gpdc','psgp'), \n",
    "                    ('gpdc','ddtf'), \n",
    "                    ('psgp','ddtf')]"
   ]
  },
  {
   "cell_type": "code",
   "execution_count": 14,
   "id": "16cb3ce0-ac82-4c89-92ed-2a9691679a61",
   "metadata": {},
   "outputs": [],
   "source": [
    "ci_dict = {}\n",
    "\n",
    "for pair in comparison_pairs:\n",
    "    method1 = pair[0]\n",
    "    method2 = pair[1]\n",
    "\n",
    "    ci_dict[pair] = bootstrap_ci(ratio_dict[method1], ratio_dict[method2])"
   ]
  },
  {
   "cell_type": "code",
   "execution_count": 15,
   "id": "afaa55e7-fd0d-401f-a732-a232faa8ea62",
   "metadata": {},
   "outputs": [
    {
     "name": "stdout",
     "output_type": "stream",
     "text": [
      "ci_dict {('coh', 'ciplv'): (0.1686464881014449, 0.45268756220253437), ('coh', 'imcoh'): (0.2762887381982624, 0.6532365050391844), ('coh', 'wpli2'): (2.347995796897207, 4.012999173058384), ('ciplv', 'imcoh'): (-0.07632928627033442, 0.3391172506927407), ('ciplv', 'wpli2'): (2.003211949835901, 3.7551765045951124), ('imcoh', 'wpli2'): (1.9061112952632076, 3.581013593378829)}\n"
     ]
    }
   ],
   "source": [
    "print('ci_dict',ci_dict)"
   ]
  },
  {
   "cell_type": "code",
   "execution_count": null,
   "id": "3ddb14e6-76e2-4471-a859-3bf2acbaeaf8",
   "metadata": {},
   "outputs": [],
   "source": [
    "#EXAMINING DISTRIBUTIONS TO UNDERSTAND SIGNIFICANCE"
   ]
  },
  {
   "cell_type": "code",
   "execution_count": 16,
   "id": "56c7b66b-6a9b-430a-a8f3-039fd3af51b5",
   "metadata": {},
   "outputs": [],
   "source": [
    "ratio_df = pd.DataFrame([ratio_dict['gpdc'], ratio_dict['ddtf'], ratio_dict['psgp']).transpose()"
   ]
  },
  {
   "cell_type": "code",
   "execution_count": 17,
   "id": "498be93c-e898-4a0d-948f-4ebe501c997e",
   "metadata": {},
   "outputs": [],
   "source": [
    "headers =  ['gPDC', 'dDTF', 'pSGP']\n",
    "ratio_df.columns = headers"
   ]
  },
  {
   "cell_type": "code",
   "execution_count": 18,
   "id": "ffeafb8b-9bad-4aa2-8933-3f2c2cf35172",
   "metadata": {},
   "outputs": [],
   "source": [
    "ratio_df_long = ratio_df.melt(var_name='Measures', value_name='Ratios')"
   ]
  },
  {
   "cell_type": "code",
   "execution_count": 19,
   "id": "5c53a7d7-6f35-455d-a6f4-36a85d6b7f83",
   "metadata": {},
   "outputs": [],
   "source": [
    "ci_95 = []\n",
    "for method in list(ratio_dict.keys()):\n",
    "    lower_limit = confint_95(ratio_dict[method])[0]\n",
    "    upper_limit = confint_95(ratio_dict[method])[1]\n",
    "    err = upper_limit - lower_limit\n",
    "    ci_95.append(err)"
   ]
  },
  {
   "cell_type": "code",
   "execution_count": 20,
   "id": "9e4e55ce-3ee0-447f-a84f-31f95b079d68",
   "metadata": {},
   "outputs": [],
   "source": [
    "means = []\n",
    "for method in list(ratio_dict.keys()):\n",
    "    means.append(np.mean(ratio_dict[method]))"
   ]
  },
  {
   "cell_type": "code",
   "execution_count": 22,
   "id": "a20a97bb-1dae-4a3f-a528-88655420feac",
   "metadata": {},
   "outputs": [
    {
     "data": {
      "image/png": "[encoded data removed]",
      "text/plain": [
       "<Figure size 640x480 with 1 Axes>"
      ]
     },
     "metadata": {},
     "output_type": "display_data"
    }
   ],
   "source": [
    "plt.bar(headers, means, color='gray')\n",
    "plt.errorbar(headers, means, yerr=ci_95, linestyle=\"\",ecolor='black')\n",
    "plt.ylabel('Between-to-within variance ratio')\n",
    "plt.savefig('variance_ratios_functional.png',dpi=300)"
   ]
  },
  {
   "cell_type": "code",
   "execution_count": null,
   "id": "6377faf1-da69-4001-868a-e6e1cf1d07d2",
   "metadata": {},
   "outputs": [],
   "source": []
  }
 ],
 "metadata": {
  "kernelspec": {
   "display_name": "Python 3 (ipykernel)",
   "language": "python",
   "name": "python3"
  },
  "language_info": {
   "codemirror_mode": {
    "name": "ipython",
    "version": 3
   },
   "file_extension": ".py",
   "mimetype": "text/x-python",
   "name": "python",
   "nbconvert_exporter": "python",
   "pygments_lexer": "ipython3",
   "version": "3.11.5"
  }
 },
 "nbformat": 4,
 "nbformat_minor": 5
}
